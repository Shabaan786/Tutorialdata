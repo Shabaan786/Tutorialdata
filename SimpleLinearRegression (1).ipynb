{
  "nbformat": 4,
  "nbformat_minor": 0,
  "metadata": {
    "colab": {
      "name": "SimpleLinearRegression.ipynb",
      "provenance": [],
      "collapsed_sections": []
    },
    "kernelspec": {
      "name": "python3",
      "display_name": "Python 3"
    },
    "language_info": {
      "name": "python"
    }
  },
  "cells": [
    {
      "cell_type": "code",
      "execution_count": 2,
      "metadata": {
        "id": "p046AVKqNGtC"
      },
      "outputs": [],
      "source": [
        "import pandas as pd\n",
        "from sklearn.linear_model import LinearRegression\n",
        "import statsmodels.api as sm\n",
        "\n",
        "# Load the data\n",
        "url=\"https://raw.githubusercontent.com/chiharuishida/DataVisualization/main/Boston.csv\"\n",
        "dataset = pd.read_csv(url)"
      ]
    },
    {
      "cell_type": "code",
      "source": [
        "#print summary statistics\n",
        "print (dataset.describe())\n",
        "\n",
        "# =============================================================================\n",
        "# In the Boston dataset, the first column did not have a header (hence 'unnamed: 0')\n",
        "# #Note: axis=1 indicates columns. axis=0 indicates index (roughly the same as rows)\n",
        "# # we are using X to refer to predictor vairables, and Y to Target. Here we are including all\n",
        "# #columns/variables besides the 'unnamed' and 'medv'\n",
        "# =============================================================================\n",
        "\n",
        "x = dataset.drop(['Unnamed: 0', 'medv'], axis=1)\n",
        "y = dataset['medv']\n",
        "\n",
        "#alternative way of writing the X is:\n",
        "#x = dataset[['var1','var2','var3','var4']]\n",
        "#the drop function is good to know as well if you are entering lots of X variables\n",
        "#and just a couple excluded from the model. That way you don't have to write all the variable names\n"
      ],
      "metadata": {
        "colab": {
          "base_uri": "https://localhost:8080/"
        },
        "id": "Ll7_WUiXNR-X",
        "outputId": "3ce6c404-9822-4793-e101-a4575a73a9cc"
      },
      "execution_count": 3,
      "outputs": [
        {
          "output_type": "stream",
          "name": "stdout",
          "text": [
            "       Unnamed: 0        crim          zn       indus        chas         nox  \\\n",
            "count  506.000000  506.000000  506.000000  506.000000  506.000000  506.000000   \n",
            "mean   253.500000    3.613524   11.363636   11.136779    0.069170    0.554695   \n",
            "std    146.213884    8.601545   23.322453    6.860353    0.253994    0.115878   \n",
            "min      1.000000    0.006320    0.000000    0.460000    0.000000    0.385000   \n",
            "25%    127.250000    0.082045    0.000000    5.190000    0.000000    0.449000   \n",
            "50%    253.500000    0.256510    0.000000    9.690000    0.000000    0.538000   \n",
            "75%    379.750000    3.677083   12.500000   18.100000    0.000000    0.624000   \n",
            "max    506.000000   88.976200  100.000000   27.740000    1.000000    0.871000   \n",
            "\n",
            "               rm         age         dis         rad         tax     ptratio  \\\n",
            "count  506.000000  506.000000  506.000000  506.000000  506.000000  506.000000   \n",
            "mean     6.284634   68.574901    3.795043    9.549407  408.237154   18.455534   \n",
            "std      0.702617   28.148861    2.105710    8.707259  168.537116    2.164946   \n",
            "min      3.561000    2.900000    1.129600    1.000000  187.000000   12.600000   \n",
            "25%      5.885500   45.025000    2.100175    4.000000  279.000000   17.400000   \n",
            "50%      6.208500   77.500000    3.207450    5.000000  330.000000   19.050000   \n",
            "75%      6.623500   94.075000    5.188425   24.000000  666.000000   20.200000   \n",
            "max      8.780000  100.000000   12.126500   24.000000  711.000000   22.000000   \n",
            "\n",
            "            black       lstat        medv  \n",
            "count  506.000000  506.000000  506.000000  \n",
            "mean   356.674032   12.653063   22.532806  \n",
            "std     91.294864    7.141062    9.197104  \n",
            "min      0.320000    1.730000    5.000000  \n",
            "25%    375.377500    6.950000   17.025000  \n",
            "50%    391.440000   11.360000   21.200000  \n",
            "75%    396.225000   16.955000   25.000000  \n",
            "max    396.900000   37.970000   50.000000  \n"
          ]
        }
      ]
    },
    {
      "cell_type": "code",
      "source": [
        "# importing the model\n",
        "regressor = LinearRegression()\n",
        "\n",
        "model = sm.OLS(y, x).fit()\n",
        "## Inspect the results\n",
        "print(model.summary())"
      ],
      "metadata": {
        "colab": {
          "base_uri": "https://localhost:8080/"
        },
        "id": "nzrTOylmNWnv",
        "outputId": "c42168dc-42d0-4372-cd7a-cab020574154"
      },
      "execution_count": 4,
      "outputs": [
        {
          "output_type": "stream",
          "name": "stdout",
          "text": [
            "                                 OLS Regression Results                                \n",
            "=======================================================================================\n",
            "Dep. Variable:                   medv   R-squared (uncentered):                   0.959\n",
            "Model:                            OLS   Adj. R-squared (uncentered):              0.958\n",
            "Method:                 Least Squares   F-statistic:                              891.3\n",
            "Date:                Wed, 13 Apr 2022   Prob (F-statistic):                        0.00\n",
            "Time:                        23:18:11   Log-Likelihood:                         -1523.8\n",
            "No. Observations:                 506   AIC:                                      3074.\n",
            "Df Residuals:                     493   BIC:                                      3128.\n",
            "Df Model:                          13                                                  \n",
            "Covariance Type:            nonrobust                                                  \n",
            "==============================================================================\n",
            "                 coef    std err          t      P>|t|      [0.025      0.975]\n",
            "------------------------------------------------------------------------------\n",
            "crim          -0.0929      0.034     -2.699      0.007      -0.161      -0.025\n",
            "zn             0.0487      0.014      3.382      0.001       0.020       0.077\n",
            "indus         -0.0041      0.064     -0.063      0.950      -0.131       0.123\n",
            "chas           2.8540      0.904      3.157      0.002       1.078       4.630\n",
            "nox           -2.8684      3.359     -0.854      0.394      -9.468       3.731\n",
            "rm             5.9281      0.309     19.178      0.000       5.321       6.535\n",
            "age           -0.0073      0.014     -0.526      0.599      -0.034       0.020\n",
            "dis           -0.9685      0.196     -4.951      0.000      -1.353      -0.584\n",
            "rad            0.1712      0.067      2.564      0.011       0.040       0.302\n",
            "tax           -0.0094      0.004     -2.395      0.017      -0.017      -0.002\n",
            "ptratio       -0.3922      0.110     -3.570      0.000      -0.608      -0.176\n",
            "black          0.0149      0.003      5.528      0.000       0.010       0.020\n",
            "lstat         -0.4163      0.051     -8.197      0.000      -0.516      -0.317\n",
            "==============================================================================\n",
            "Omnibus:                      204.082   Durbin-Watson:                   0.999\n",
            "Prob(Omnibus):                  0.000   Jarque-Bera (JB):             1374.225\n",
            "Skew:                           1.609   Prob(JB):                    3.90e-299\n",
            "Kurtosis:                      10.404   Cond. No.                     8.50e+03\n",
            "==============================================================================\n",
            "\n",
            "Warnings:\n",
            "[1] Standard Errors assume that the covariance matrix of the errors is correctly specified.\n",
            "[2] The condition number is large, 8.5e+03. This might indicate that there are\n",
            "strong multicollinearity or other numerical problems.\n"
          ]
        }
      ]
    }
  ]
}
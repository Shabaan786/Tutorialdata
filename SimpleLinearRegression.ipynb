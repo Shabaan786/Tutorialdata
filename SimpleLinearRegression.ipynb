{
  "nbformat": 4,
  "nbformat_minor": 0,
  "metadata": {
    "colab": {
      "name": "SimpleLinearRegression.ipynb",
      "provenance": [],
      "collapsed_sections": []
    },
    "kernelspec": {
      "name": "python3",
      "display_name": "Python 3"
    },
    "language_info": {
      "name": "python"
    }
  },
  "cells": [
    {
      "cell_type": "code",
      "execution_count": null,
      "metadata": {
        "id": "p046AVKqNGtC"
      },
      "outputs": [],
      "source": [
        "import pandas as pd\n",
        "from sklearn.linear_model import LinearRegression\n",
        "import statsmodels.api as sm\n",
        "\n",
        "# Load the data by using the read_csv method on the Pandas library and passing\n",
        "# it the location of our data.\n",
        "dataset = pd.read_csv('boston.csv')"
      ]
    },
    {
      "cell_type": "code",
      "source": [
        "#print summary statistics\n",
        "print (dataset.describe())\n",
        "\n",
        "# =============================================================================\n",
        "# In the Boston dataset, the first column did not have a header (hence 'unnamed: 0')\n",
        "# #Note: axis=1 indicates columns. axis=0 indicates index (roughly the same as rows)\n",
        "# # we are using X to refer to predictor vairables, and Y to Target. Here we are including all\n",
        "# #columns/variables besides the 'unnamed' and 'medv'\n",
        "# =============================================================================\n",
        "\n",
        "x = dataset.drop(['Unnamed: 0', 'medv'], axis=1)\n",
        "y = dataset['medv']\n",
        "\n",
        "#alternative way of writing the X is:\n",
        "#x = dataset[['var1','var2','var3','var4']]\n",
        "#the drop function is good to know as well if you are entering lots of X variables\n",
        "#and just a couple excluded from the model. That way you don't have to write all the variable names\n"
      ],
      "metadata": {
        "id": "Ll7_WUiXNR-X"
      },
      "execution_count": null,
      "outputs": []
    },
    {
      "cell_type": "code",
      "source": [
        "# importing the model\n",
        "regressor = LinearRegression()\n",
        "\n",
        "model = sm.OLS(y, x).fit()\n",
        "## Inspect the results\n",
        "print(model.summary())"
      ],
      "metadata": {
        "id": "nzrTOylmNWnv"
      },
      "execution_count": null,
      "outputs": []
    }
  ]
}
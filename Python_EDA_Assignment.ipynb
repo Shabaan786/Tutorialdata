{
 "cells": [
  {
   "cell_type": "code",
   "execution_count": 1,
   "id": "d599847d",
   "metadata": {},
   "outputs": [],
   "source": [
    "########INSTRUCTIONS########\n",
    "#Your task is to \n",
    "#(1) first, copy the command line in ("In [2]") and run. Next, copy  the command in ("In [3]"), and then ("In [4]")\n",
    "#(2) starting from command in ("In [4]") of the EDA cheet sheet (https://github.com/chiharuishida/Tutorialdata/blob/main/EDA_cheat_sheet.ipynb)\n",
    "#one command at at time, copy and paste into your worksheet\n",
    "#IMPORTANT! since we are dealing with Ad clicking dataset (it's been uploaded as \"Ad\"), where the word (tips) appears it must be replaced\n", 
    "#with the word (Ad)\n",
    "#(3) starting in "In [6]", you will also need to pay attention to variable name changes for the Ad dataset.\n",
    "#Variables in this Ad dataset are:\n",
    "#   Time Spent on Site in Seconds ('Site_Time')\n",
    "#   Age\n",
    "#   Daily Internet Usage in Minutes ('Daily_time')\n",
    "#   Gender\n",
    "#   Clicked on Ad ('AdClicking')\n",
    "\n",
    "#EDA cheat sheet is located at https://github.com/chiharuishida/Tutorialdata/blob/main/EDA_cheat_sheet.ipynb\n",
    "\n",
    "#Press down Shift key, hit Enter in order to run each line\n",
    "\n",
    "#When finished, go to FILE >> DOWNLOAD AS, and then select Notebook. Submit the file (*.ipynb) on Reggienet Assignment\n"
   ]
  },
  {
   "cell_type": "code",
   "execution_count": 2,
   "id": "af5cedf7",
   "metadata": {},
   "outputs": [],
   "source": [
    "import seaborn as sns\n",
    "import pandas as pd\n",
    "#Click \"Run\" button at the menu, or press Shift-key and hit Enter to run this cell. \n",
    "#these two libraries are needed to run our EDA analysis. "
   ]
  },
  {
   "cell_type": "code",
   "execution_count": 3,
   "id": "c641ec10",
   "metadata": {},
   "outputs": [],
   "source": [
    "url=\"https://raw.githubusercontent.com/chiharuishida/Tutorialdata/main/ad_dataset_withheaders.csv\"\n",
    "Ad=pd.read_csv(url)\n",
    "#this cell will upload the \"Ad\" dataframe from the URL above.\n",
    "#Go ahead and run this cell"
   ]
  },
  {
   "cell_type": "code",
   "execution_count": null,
   "id": "d27f2ac2",
   "metadata": {},
   "outputs": [],
   "source": [
    "Ad.head(10)\n",
    "#so this is where the assignment begins. Go to https://github.com/chiharuishida/Tutorialdata/blob/main/EDA_cheat_sheet.ipynb \n",
    "# for the rest of the code. Where says \"Tips\" you will need to replace with \"Ad\" because that's our new dataframe"
   ]
  }
 ],
 "metadata": {
  "kernelspec": {
   "display_name": "Python 3",
   "language": "python",
   "name": "python3"
  },
  "language_info": {
   "codemirror_mode": {
    "name": "ipython",
    "version": 3
   },
   "file_extension": ".py",
   "mimetype": "text/x-python",
   "name": "python",
   "nbconvert_exporter": "python",
   "pygments_lexer": "ipython3",
   "version": "3.8.8"
  }
 },
 "nbformat": 4,
 "nbformat_minor": 5
}

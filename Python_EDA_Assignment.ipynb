{
 "cells": [
  {
   "cell_type": "code",
   "execution_count": 1,
   "id": "d599847d",
   "metadata": {},
   "outputs": [],
   "source": [
   
   ]
  },
  {
   "cell_type": "code",
   "execution_count": 2,
   "id": "af5cedf7",
   "metadata": {},
   "outputs": [],
   "source": [
    "import seaborn as sns\n",
    "import pandas as pd\n",
    "#Click \"Run\" button at the menu, or press Shift-key and hit Enter to run this cell. \n",
    "#these two libraries are needed to run our EDA analysis. "
   ]
  },
  {
   "cell_type": "code",
   "execution_count": 3,
   "id": "c641ec10",
   "metadata": {},
   "outputs": [],
   "source": [
    "url=\"https://raw.githubusercontent.com/chiharuishida/Tutorialdata/main/ad_dataset_withheaders.csv\"\n",
    "Ad=pd.read_csv(url)\n",
    "#this cell will upload the \"Ad\" dataframe from the URL above.\n",
    "#Go ahead and run this cell"
   ]
  },
  {
   "cell_type": "code",
   "execution_count": null,
   "id": "d27f2ac2",
   "metadata": {},
   "outputs": [],
   "source": [
    "Ad.head(10)\n",
    "#so this is where the assignment begins. Go to https://github.com/chiharuishida/Tutorialdata/blob/main/EDA_cheat_sheet.ipynb \n",
    "# for the rest of the code. Where says \"Tips\" you will need to replace with \"Ad\" because that's our new dataframe"
   ]
  }
 ],
 "metadata": {
  "kernelspec": {
   "display_name": "Python 3",
   "language": "python",
   "name": "python3"
  },
  "language_info": {
   "codemirror_mode": {
    "name": "ipython",
    "version": 3
   },
   "file_extension": ".py",
   "mimetype": "text/x-python",
   "name": "python",
   "nbconvert_exporter": "python",
   "pygments_lexer": "ipython3",
   "version": "3.8.8"
  }
 },
 "nbformat": 4,
 "nbformat_minor": 5
}

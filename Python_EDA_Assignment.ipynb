{
 "cells": [
  {
   "cell_type": "code",
   "execution_count": null,
   "id": "3be07382",
   "metadata": {},
   "outputs": [],
   "source": [
    "########INSTRUCTIONS########\n",
    "#Your task is to\n",
    "#(1) first, copy the command line in (\"In [2]\") and run. Next, copy  the command in (\"In [3]\"), \n",
    "#and then (\"In [4]\")\n",
    "\n",
    "#(2) starting from command in (\"In [4]\") of the EDA cheet sheet (https://github.com/chiharuishida/Tutorialdata/blob/main/EDA_cheat_sheet.ipynb)\\n\",\n",
    "#One command at at time, copy and paste into your worksheet\n",
    "\n",
    "#IMPORTANT! since we are dealing with Ad clicking dataset (it's been uploaded as \\\"Ad\\\"), \n",
    "# you must replace the word (tips) with the word (Ad)\n",
    "\n",
    "#(3) starting in \"In [6]\", you will also need to pay attention to variable name changes for the Ad dataset.\\n\",\n",
    "    #Variables in this Ad dataset are:\\n\",\n",
    "    #   Time Spent on Site in Seconds ('Site_Time')\\n\",\n",
    "    #   Age\\n\",\n",
    "    #   Daily Internet Usage in Minutes ('Daily_time')\\n\",\n",
    "    #   Gender\\n\",\n",
    "    #   Clicked on Ad ('AdClicking')\\n\",\n",
    "\n",
    "#When finished, go to FILE >> DOWNLOAD AS, and then select Notebook. Submit the file (*.ipynb) on Reggienet Assignment"
   ]
  },
  {
   "cell_type": "code",
   "execution_count": null,
   "id": "17ee8f39",
   "metadata": {},
   "outputs": [],
   "source": [
    "import seaborn as sns\n",
    "import pandas as pd"
   ]
  },
  {
   "cell_type": "code",
   "execution_count": null,
   "id": "7cd88c1e",
   "metadata": {},
   "outputs": [],
   "source": [
    "url=\"https://raw.githubusercontent.com/chiharuishida/Tutorialdata/main/ad_dataset_withheaders.csv\"\n",
    "Ad=pd.read_csv(url)\n",
    "#this cell will upload the \"Ad\" dataframe from the URL above."
   ]
  },
  {
   "cell_type": "code",
   "execution_count": null,
   "id": "a2680a74",
   "metadata": {},
   "outputs": [],
   "source": [
    "Ad.head(10)\n",
    "#so this is where the assignment begins. Go to https://github.com/chiharuishida/Tutorialdata/blob/main/EDA_cheat_sheet.ipynb \n",
    "# for the rest of the code. Where says \"Tips\" you will need to replace with \"Ad\" because that's our new dataframe"
   ]
  }
 ],
 "metadata": {
  "kernelspec": {
   "display_name": "Python 3",
   "language": "python",
   "name": "python3"
  },
  "language_info": {
   "codemirror_mode": {
    "name": "ipython",
    "version": 3
   },
   "file_extension": ".py",
   "mimetype": "text/x-python",
   "name": "python",
   "nbconvert_exporter": "python",
   "pygments_lexer": "ipython3",
   "version": "3.8.8"
  }
 },
 "nbformat": 4,
 "nbformat_minor": 5
}

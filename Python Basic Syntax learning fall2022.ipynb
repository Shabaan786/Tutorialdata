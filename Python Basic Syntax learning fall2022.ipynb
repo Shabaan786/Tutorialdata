{
 "cells": [
  {
   "cell_type": "code",
   "execution_count": 1,
   "id": "e80c9799",
   "metadata": {},
   "outputs": [
    {
     "data": {
      "text/plain": [
       "int"
      ]
     },
     "execution_count": 1,
     "metadata": {},
     "output_type": "execute_result"
    }
   ],
   "source": [
    "type(3)"
   ]
  },
  {
   "cell_type": "code",
   "execution_count": 2,
   "id": "b9119080",
   "metadata": {},
   "outputs": [
    {
     "data": {
      "text/plain": [
       "float"
      ]
     },
     "execution_count": 2,
     "metadata": {},
     "output_type": "execute_result"
    }
   ],
   "source": [
    "type(3.14)"
   ]
  },
  {
   "cell_type": "code",
   "execution_count": 3,
   "id": "e0cd522b",
   "metadata": {},
   "outputs": [
    {
     "data": {
      "text/plain": [
       "float"
      ]
     },
     "execution_count": 3,
     "metadata": {},
     "output_type": "execute_result"
    }
   ],
   "source": [
    "pi=3.14\n",
    "type (pi)"
   ]
  },
  {
   "cell_type": "code",
   "execution_count": 4,
   "id": "b323794e",
   "metadata": {},
   "outputs": [
    {
     "data": {
      "text/plain": [
       "6"
      ]
     },
     "execution_count": 4,
     "metadata": {},
     "output_type": "execute_result"
    }
   ],
   "source": [
    "3+3"
   ]
  },
  {
   "cell_type": "code",
   "execution_count": 5,
   "id": "b52fd62a",
   "metadata": {},
   "outputs": [
    {
     "data": {
      "text/plain": [
       "0"
      ]
     },
     "execution_count": 5,
     "metadata": {},
     "output_type": "execute_result"
    }
   ],
   "source": [
    "3-3"
   ]
  },
  {
   "cell_type": "code",
   "execution_count": 6,
   "id": "7c86b3f3",
   "metadata": {},
   "outputs": [
    {
     "data": {
      "text/plain": [
       "1.0"
      ]
     },
     "execution_count": 6,
     "metadata": {},
     "output_type": "execute_result"
    }
   ],
   "source": [
    "3/3"
   ]
  },
  {
   "cell_type": "code",
   "execution_count": 7,
   "id": "76a9e070",
   "metadata": {},
   "outputs": [
    {
     "data": {
      "text/plain": [
       "9"
      ]
     },
     "execution_count": 7,
     "metadata": {},
     "output_type": "execute_result"
    }
   ],
   "source": [
    "3*3"
   ]
  },
  {
   "cell_type": "code",
   "execution_count": 15,
   "id": "0d809347",
   "metadata": {},
   "outputs": [
    {
     "data": {
      "text/plain": [
       "2"
      ]
     },
     "execution_count": 15,
     "metadata": {},
     "output_type": "execute_result"
    }
   ],
   "source": [
    "num=3\n",
    "num=num-1\n",
    "print(num)"
   ]
  },
  {
   "cell_type": "code",
   "execution_count": 10,
   "id": "d465b280",
   "metadata": {},
   "outputs": [
    {
     "name": "stdout",
     "output_type": "stream",
     "text": [
      "12\n"
     ]
    }
   ],
   "source": [
    "num=num+10\n",
    "print(num)"
   ]
  },
  {
   "cell_type": "code",
   "execution_count": 12,
   "id": "92794d3c",
   "metadata": {},
   "outputs": [],
   "source": [
    "a=\"I can’t do that\""
   ]
  },
  {
   "cell_type": "code",
   "execution_count": 13,
   "id": "67aaf8ac",
   "metadata": {},
   "outputs": [
    {
     "data": {
      "text/plain": [
       "'I can’t do that'"
      ]
     },
     "execution_count": 13,
     "metadata": {},
     "output_type": "execute_result"
    }
   ],
   "source": [
    "a"
   ]
  },
  {
   "cell_type": "code",
   "execution_count": 18,
   "id": "e5bbf7ee",
   "metadata": {},
   "outputs": [],
   "source": [
    "b=\"He said \\\"no\\\" to me\""
   ]
  },
  {
   "cell_type": "code",
   "execution_count": 19,
   "id": "ee887661",
   "metadata": {},
   "outputs": [
    {
     "data": {
      "text/plain": [
       "'He said \"no\" to me'"
      ]
     },
     "execution_count": 19,
     "metadata": {},
     "output_type": "execute_result"
    }
   ],
   "source": [
    "b"
   ]
  },
  {
   "cell_type": "code",
   "execution_count": 20,
   "id": "57f53edc",
   "metadata": {},
   "outputs": [
    {
     "data": {
      "text/plain": [
       "'firstlast'"
      ]
     },
     "execution_count": 20,
     "metadata": {},
     "output_type": "execute_result"
    }
   ],
   "source": [
    "a=\"first\"\n",
    "b=\"last\"\n",
    "a+b"
   ]
  },
  {
   "cell_type": "code",
   "execution_count": 21,
   "id": "c2f6166e",
   "metadata": {},
   "outputs": [
    {
     "data": {
      "text/plain": [
       "'first last'"
      ]
     },
     "execution_count": 21,
     "metadata": {},
     "output_type": "execute_result"
    }
   ],
   "source": [
    "a=\"first \"\n",
    "a+b"
   ]
  },
  {
   "cell_type": "code",
   "execution_count": 22,
   "id": "a86ab8dc",
   "metadata": {},
   "outputs": [],
   "source": [
    "w=\"woah!\""
   ]
  },
  {
   "cell_type": "code",
   "execution_count": 23,
   "id": "6ed7a388",
   "metadata": {},
   "outputs": [
    {
     "data": {
      "text/plain": [
       "'WOAH!'"
      ]
     },
     "execution_count": 23,
     "metadata": {},
     "output_type": "execute_result"
    }
   ],
   "source": [
    "w.upper()"
   ]
  },
  {
   "cell_type": "code",
   "execution_count": 24,
   "id": "acc055d5",
   "metadata": {},
   "outputs": [
    {
     "data": {
      "text/plain": [
       "'mule'"
      ]
     },
     "execution_count": 24,
     "metadata": {},
     "output_type": "execute_result"
    }
   ],
   "source": [
    "r=\"rule\"\n",
    "r.replace(\"r\",\"m\")"
   ]
  },
  {
   "cell_type": "code",
   "execution_count": 25,
   "id": "061f8b0f",
   "metadata": {},
   "outputs": [
    {
     "data": {
      "text/plain": [
       "3"
      ]
     },
     "execution_count": 25,
     "metadata": {},
     "output_type": "execute_result"
    }
   ],
   "source": [
    "numbers=['1','2','1','2','2']\n",
    "numbers.count('2')"
   ]
  },
  {
   "cell_type": "code",
   "execution_count": 26,
   "id": "e0b5a951",
   "metadata": {},
   "outputs": [
    {
     "data": {
      "text/plain": [
       "'Python is a lot of fun!'"
      ]
     },
     "execution_count": 26,
     "metadata": {},
     "output_type": "execute_result"
    }
   ],
   "source": [
    "\"{0} is a lot of {1}\".format(\"Python\", \"fun!\")"
   ]
  },
  {
   "cell_type": "code",
   "execution_count": 27,
   "id": "c313cf00",
   "metadata": {},
   "outputs": [
    {
     "data": {
      "text/plain": [
       "True"
      ]
     },
     "execution_count": 27,
     "metadata": {},
     "output_type": "execute_result"
    }
   ],
   "source": [
    "10==10"
   ]
  },
  {
   "cell_type": "code",
   "execution_count": 28,
   "id": "01952569",
   "metadata": {},
   "outputs": [
    {
     "data": {
      "text/plain": [
       "False"
      ]
     },
     "execution_count": 28,
     "metadata": {},
     "output_type": "execute_result"
    }
   ],
   "source": [
    "10==11"
   ]
  },
  {
   "cell_type": "code",
   "execution_count": 29,
   "id": "c3ae8db0",
   "metadata": {},
   "outputs": [
    {
     "data": {
      "text/plain": [
       "True"
      ]
     },
     "execution_count": 29,
     "metadata": {},
     "output_type": "execute_result"
    }
   ],
   "source": [
    "\"jack\"==\"jack\""
   ]
  },
  {
   "cell_type": "code",
   "execution_count": 30,
   "id": "a18e863e",
   "metadata": {},
   "outputs": [
    {
     "data": {
      "text/plain": [
       "False"
      ]
     },
     "execution_count": 30,
     "metadata": {},
     "output_type": "execute_result"
    }
   ],
   "source": [
    "\"jack\"==\"jake\""
   ]
  },
  {
   "cell_type": "code",
   "execution_count": 31,
   "id": "b84c7966",
   "metadata": {},
   "outputs": [
    {
     "data": {
      "text/plain": [
       "False"
      ]
     },
     "execution_count": 31,
     "metadata": {},
     "output_type": "execute_result"
    }
   ],
   "source": [
    "10 != 10 "
   ]
  },
  {
   "cell_type": "code",
   "execution_count": 32,
   "id": "80555d57",
   "metadata": {},
   "outputs": [
    {
     "data": {
      "text/plain": [
       "True"
      ]
     },
     "execution_count": 32,
     "metadata": {},
     "output_type": "execute_result"
    }
   ],
   "source": [
    "10 != 11 "
   ]
  },
  {
   "cell_type": "code",
   "execution_count": 33,
   "id": "324ae0ae",
   "metadata": {},
   "outputs": [
    {
     "data": {
      "text/plain": [
       "False"
      ]
     },
     "execution_count": 33,
     "metadata": {},
     "output_type": "execute_result"
    }
   ],
   "source": [
    "\"jack\" != \"jack\" "
   ]
  },
  {
   "cell_type": "code",
   "execution_count": 34,
   "id": "f183381c",
   "metadata": {},
   "outputs": [
    {
     "data": {
      "text/plain": [
       "True"
      ]
     },
     "execution_count": 34,
     "metadata": {},
     "output_type": "execute_result"
    }
   ],
   "source": [
    " \"jack\" != \"jake\" "
   ]
  },
  {
   "cell_type": "code",
   "execution_count": 35,
   "id": "6037ee54",
   "metadata": {},
   "outputs": [
    {
     "data": {
      "text/plain": [
       "False"
      ]
     },
     "execution_count": 35,
     "metadata": {},
     "output_type": "execute_result"
    }
   ],
   "source": [
    "10 > 10 "
   ]
  },
  {
   "cell_type": "code",
   "execution_count": 36,
   "id": "ffc907f4",
   "metadata": {},
   "outputs": [
    {
     "data": {
      "text/plain": [
       "True"
      ]
     },
     "execution_count": 36,
     "metadata": {},
     "output_type": "execute_result"
    }
   ],
   "source": [
    "10 < 11 "
   ]
  },
  {
   "cell_type": "code",
   "execution_count": 37,
   "id": "2401e367",
   "metadata": {},
   "outputs": [
    {
     "data": {
      "text/plain": [
       "True"
      ]
     },
     "execution_count": 37,
     "metadata": {},
     "output_type": "execute_result"
    }
   ],
   "source": [
    "10 >= 10 "
   ]
  },
  {
   "cell_type": "code",
   "execution_count": 38,
   "id": "75162b4e",
   "metadata": {},
   "outputs": [
    {
     "data": {
      "text/plain": [
       "True"
      ]
     },
     "execution_count": 38,
     "metadata": {},
     "output_type": "execute_result"
    }
   ],
   "source": [
    "10 <= 11 "
   ]
  },
  {
   "cell_type": "code",
   "execution_count": 39,
   "id": "9f60fb06",
   "metadata": {},
   "outputs": [
    {
     "data": {
      "text/plain": [
       "False"
      ]
     },
     "execution_count": 39,
     "metadata": {},
     "output_type": "execute_result"
    }
   ],
   "source": [
    "10 <= 10 < 0"
   ]
  },
  {
   "cell_type": "code",
   "execution_count": 40,
   "id": "de1008d0",
   "metadata": {},
   "outputs": [
    {
     "data": {
      "text/plain": [
       "True"
      ]
     },
     "execution_count": 40,
     "metadata": {},
     "output_type": "execute_result"
    }
   ],
   "source": [
    "10 <= 10 < 11 "
   ]
  },
  {
   "cell_type": "code",
   "execution_count": 41,
   "id": "2da944b4",
   "metadata": {},
   "outputs": [
    {
     "data": {
      "text/plain": [
       "False"
      ]
     },
     "execution_count": 41,
     "metadata": {},
     "output_type": "execute_result"
    }
   ],
   "source": [
    "\"jack\" > \"jack\" "
   ]
  },
  {
   "cell_type": "code",
   "execution_count": 42,
   "id": "267878e1",
   "metadata": {},
   "outputs": [
    {
     "data": {
      "text/plain": [
       "True"
      ]
     },
     "execution_count": 42,
     "metadata": {},
     "output_type": "execute_result"
    }
   ],
   "source": [
    " \"jack\" >= \"jack\""
   ]
  },
  {
   "cell_type": "code",
   "execution_count": 43,
   "id": "73238740",
   "metadata": {},
   "outputs": [],
   "source": [
    "fruits = ['apple','lemon','orange','grape'] "
   ]
  },
  {
   "cell_type": "code",
   "execution_count": 44,
   "id": "f3b8023f",
   "metadata": {},
   "outputs": [
    {
     "data": {
      "text/plain": [
       "['apple', 'lemon', 'orange', 'grape']"
      ]
     },
     "execution_count": 44,
     "metadata": {},
     "output_type": "execute_result"
    }
   ],
   "source": [
    "fruits"
   ]
  },
  {
   "cell_type": "code",
   "execution_count": 45,
   "id": "89b10a45",
   "metadata": {},
   "outputs": [
    {
     "data": {
      "text/plain": [
       "'orange'"
      ]
     },
     "execution_count": 45,
     "metadata": {},
     "output_type": "execute_result"
    }
   ],
   "source": [
    "fruits[2]"
   ]
  },
  {
   "cell_type": "code",
   "execution_count": 47,
   "id": "d546905f",
   "metadata": {},
   "outputs": [
    {
     "data": {
      "text/plain": [
       "'orange'"
      ]
     },
     "execution_count": 47,
     "metadata": {},
     "output_type": "execute_result"
    }
   ],
   "source": [
    "fruits[-2]"
   ]
  },
  {
   "cell_type": "code",
   "execution_count": 48,
   "id": "16c7baa7",
   "metadata": {},
   "outputs": [
    {
     "data": {
      "text/plain": [
       "4"
      ]
     },
     "execution_count": 48,
     "metadata": {},
     "output_type": "execute_result"
    }
   ],
   "source": [
    "len(fruits)"
   ]
  },
  {
   "cell_type": "code",
   "execution_count": 49,
   "id": "4d2cbff7",
   "metadata": {},
   "outputs": [],
   "source": [
    "fruits.append('blueberry') "
   ]
  },
  {
   "cell_type": "code",
   "execution_count": 50,
   "id": "d0544b5e",
   "metadata": {},
   "outputs": [
    {
     "data": {
      "text/plain": [
       "['apple', 'lemon', 'orange', 'grape', 'blueberry']"
      ]
     },
     "execution_count": 50,
     "metadata": {},
     "output_type": "execute_result"
    }
   ],
   "source": [
    "fruits"
   ]
  },
  {
   "cell_type": "code",
   "execution_count": 51,
   "id": "ee88f092",
   "metadata": {},
   "outputs": [],
   "source": [
    "fruits.append('tomato') "
   ]
  },
  {
   "cell_type": "code",
   "execution_count": 52,
   "id": "707060e1",
   "metadata": {},
   "outputs": [
    {
     "data": {
      "text/plain": [
       "['apple', 'lemon', 'orange', 'grape', 'blueberry', 'tomato']"
      ]
     },
     "execution_count": 52,
     "metadata": {},
     "output_type": "execute_result"
    }
   ],
   "source": [
    "fruits"
   ]
  },
  {
   "cell_type": "code",
   "execution_count": 53,
   "id": "680d0224",
   "metadata": {},
   "outputs": [
    {
     "data": {
      "text/plain": [
       "'tomato'"
      ]
     },
     "execution_count": 53,
     "metadata": {},
     "output_type": "execute_result"
    }
   ],
   "source": [
    "fruits.pop()"
   ]
  },
  {
   "cell_type": "code",
   "execution_count": 54,
   "id": "09b2a584",
   "metadata": {},
   "outputs": [
    {
     "data": {
      "text/plain": [
       "['apple', 'lemon', 'orange', 'grape', 'blueberry']"
      ]
     },
     "execution_count": 54,
     "metadata": {},
     "output_type": "execute_result"
    }
   ],
   "source": [
    "fruits"
   ]
  },
  {
   "cell_type": "code",
   "execution_count": 55,
   "id": "522f6c7e",
   "metadata": {},
   "outputs": [
    {
     "data": {
      "text/plain": [
       "True"
      ]
     },
     "execution_count": 55,
     "metadata": {},
     "output_type": "execute_result"
    }
   ],
   "source": [
    "'apple' in fruits "
   ]
  },
  {
   "cell_type": "code",
   "execution_count": 56,
   "id": "0963286c",
   "metadata": {},
   "outputs": [
    {
     "data": {
      "text/plain": [
       "False"
      ]
     },
     "execution_count": 56,
     "metadata": {},
     "output_type": "execute_result"
    }
   ],
   "source": [
    "'tomato' in fruits "
   ]
  },
  {
   "cell_type": "code",
   "execution_count": 57,
   "id": "d5e17b3f",
   "metadata": {},
   "outputs": [],
   "source": [
    "words={'apple':'red','lemon':'yellow'} "
   ]
  },
  {
   "cell_type": "code",
   "execution_count": 58,
   "id": "6e2495f4",
   "metadata": {},
   "outputs": [
    {
     "data": {
      "text/plain": [
       "{'apple': 'red', 'lemon': 'yellow'}"
      ]
     },
     "execution_count": 58,
     "metadata": {},
     "output_type": "execute_result"
    }
   ],
   "source": [
    "words"
   ]
  },
  {
   "cell_type": "code",
   "execution_count": 59,
   "id": "f7a9d6ae",
   "metadata": {},
   "outputs": [
    {
     "data": {
      "text/plain": [
       "'red'"
      ]
     },
     "execution_count": 59,
     "metadata": {},
     "output_type": "execute_result"
    }
   ],
   "source": [
    "words['apple']"
   ]
  },
  {
   "cell_type": "code",
   "execution_count": 61,
   "id": "d66a15f9",
   "metadata": {},
   "outputs": [
    {
     "data": {
      "text/plain": [
       "'yellow'"
      ]
     },
     "execution_count": 61,
     "metadata": {},
     "output_type": "execute_result"
    }
   ],
   "source": [
    "words['lemon']"
   ]
  },
  {
   "cell_type": "code",
   "execution_count": 62,
   "id": "2ed94d38",
   "metadata": {},
   "outputs": [],
   "source": [
    "dict={'one':1,'two':2} "
   ]
  },
  {
   "cell_type": "code",
   "execution_count": 63,
   "id": "90ad074e",
   "metadata": {},
   "outputs": [
    {
     "data": {
      "text/plain": [
       "{'one': 1, 'two': 2}"
      ]
     },
     "execution_count": 63,
     "metadata": {},
     "output_type": "execute_result"
    }
   ],
   "source": [
    "dict"
   ]
  },
  {
   "cell_type": "code",
   "execution_count": 64,
   "id": "21147d27",
   "metadata": {},
   "outputs": [
    {
     "data": {
      "text/plain": [
       "dict_keys(['apple', 'lemon'])"
      ]
     },
     "execution_count": 64,
     "metadata": {},
     "output_type": "execute_result"
    }
   ],
   "source": [
    "words.keys() "
   ]
  },
  {
   "cell_type": "code",
   "execution_count": 65,
   "id": "b508d1b6",
   "metadata": {},
   "outputs": [
    {
     "data": {
      "text/plain": [
       "dict_values(['red', 'yellow'])"
      ]
     },
     "execution_count": 65,
     "metadata": {},
     "output_type": "execute_result"
    }
   ],
   "source": [
    "words.values() "
   ]
  },
  {
   "cell_type": "code",
   "execution_count": 66,
   "id": "fa97519f",
   "metadata": {},
   "outputs": [
    {
     "name": "stdout",
     "output_type": "stream",
     "text": [
      "the number is 20\n"
     ]
    }
   ],
   "source": [
    "num = 20\n",
    "if num == 20: \n",
    "    print('the number is 20')\n",
    "else:\n",
    "    print('the number is not 20')"
   ]
  },
  {
   "cell_type": "code",
   "execution_count": 67,
   "id": "f0d749d6",
   "metadata": {},
   "outputs": [
    {
     "name": "stdout",
     "output_type": "stream",
     "text": [
      "the number is greater than 20\n"
     ]
    }
   ],
   "source": [
    "num=21\n",
    "if num==20:\n",
    "    print(\"the number is 20\")\n",
    "elif num>20:\n",
    "    print (\"the number is greater than 20\")\n",
    "else:\n",
    "    print(\"the number is less than 20\")"
   ]
  },
  {
   "cell_type": "code",
   "execution_count": 68,
   "id": "e41e68ae",
   "metadata": {},
   "outputs": [],
   "source": [
    "colors=(\"red\",\"blue\",\"green\")"
   ]
  },
  {
   "cell_type": "code",
   "execution_count": 69,
   "id": "d62e8cc2",
   "metadata": {},
   "outputs": [
    {
     "data": {
      "text/plain": [
       "('red', 'blue', 'green')"
      ]
     },
     "execution_count": 69,
     "metadata": {},
     "output_type": "execute_result"
    }
   ],
   "source": [
    "colors"
   ]
  },
  {
   "cell_type": "code",
   "execution_count": 70,
   "id": "6259a981",
   "metadata": {},
   "outputs": [
    {
     "name": "stdout",
     "output_type": "stream",
     "text": [
      "I love red\n",
      "I love blue\n",
      "I love green\n"
     ]
    }
   ],
   "source": [
    "for favorite in colors:\n",
    "    print (\"I love \" + favorite)"
   ]
  },
  {
   "cell_type": "code",
   "execution_count": 71,
   "id": "8e6bb77d",
   "metadata": {},
   "outputs": [
    {
     "data": {
      "text/plain": [
       "1"
      ]
     },
     "execution_count": 71,
     "metadata": {},
     "output_type": "execute_result"
    }
   ],
   "source": [
    "num=1\n",
    "num"
   ]
  },
  {
   "cell_type": "code",
   "execution_count": 72,
   "id": "ba08ebf3",
   "metadata": {},
   "outputs": [
    {
     "name": "stdout",
     "output_type": "stream",
     "text": [
      "1\n",
      "2\n",
      "3\n",
      "4\n",
      "5\n"
     ]
    }
   ],
   "source": [
    "while num<=5:\n",
    "    print(num)\n",
    "    num+=1"
   ]
  },
  {
   "cell_type": "code",
   "execution_count": 77,
   "id": "92a9d3a7",
   "metadata": {},
   "outputs": [],
   "source": [
    "def multiply (num1, num2):\n",
    "    return num1*num2"
   ]
  },
  {
   "cell_type": "code",
   "execution_count": 78,
   "id": "3e986418",
   "metadata": {},
   "outputs": [
    {
     "data": {
      "text/plain": [
       "4"
      ]
     },
     "execution_count": 78,
     "metadata": {},
     "output_type": "execute_result"
    }
   ],
   "source": [
    "multiply(2,2)"
   ]
  },
  {
   "cell_type": "code",
   "execution_count": 79,
   "id": "602feb62",
   "metadata": {},
   "outputs": [],
   "source": [
    "def multiply(num1, num2=10):\n",
    "    return num1*num2"
   ]
  },
  {
   "cell_type": "code",
   "execution_count": 80,
   "id": "a4a1e362",
   "metadata": {},
   "outputs": [
    {
     "data": {
      "text/plain": [
       "20"
      ]
     },
     "execution_count": 80,
     "metadata": {},
     "output_type": "execute_result"
    }
   ],
   "source": [
    "multiply(2)"
   ]
  }
 ],
 "metadata": {
  "kernelspec": {
   "display_name": "Python 3",
   "language": "python",
   "name": "python3"
  },
  "language_info": {
   "codemirror_mode": {
    "name": "ipython",
    "version": 3
   },
   "file_extension": ".py",
   "mimetype": "text/x-python",
   "name": "python",
   "nbconvert_exporter": "python",
   "pygments_lexer": "ipython3",
   "version": "3.8.8"
  }
 },
 "nbformat": 4,
 "nbformat_minor": 5
}

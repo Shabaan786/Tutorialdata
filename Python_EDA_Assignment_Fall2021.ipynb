{
 "cells": [
  {
   "cell_type": "code",
   "execution_count": 1,
   "id": "d599847d",
   "metadata": {},
   "outputs": [],
   "source": [
    "#Your task is to \n",
    "#(1) run the following two lines (In Line 2 and Line 3)\n",
    "#(2) One line at at time, copy and paste from the EDA cheat sheet, starting Line 4 \n",
    "#IMPORTANT! since we are dealing with Ad clicking dataset (it's been uploaded as \"Ad\"), where says tips must be replaced with Ad\n",
    "# HINT: Ad.head(10) should be your Line 4\n",
    "#(3) starting In Line 6, you will also need to pay attention to variable name changes.\n",
    "#Variables in this Ad dataset are:\n",
    "#   Time Spent on Site in Seconds ('Site_Time')\n",
    "#   Age\n",
    "#   Daily Internet Usage in Minutes ('Daily_time')\n",
    "#   Gender\n",
    "#   Clicked on Ad ('AdClicking')\n",
    "\n",
    "#EDA cheat sheet is located at https://github.com/chiharuishida/Tutorialdata/blob/main/EDA_cheat_sheet.ipynb\n",
    "\n",
    "#Press down Shift key, hit Enter in order to run each line\n",
    "\n",
    "#When finished, go to FILE >> DOWNLOAD AS, and then select Notebook. Submit the file (*.ipynb) on Reggienet Assignment\n"
   ]
  },
  {
   "cell_type": "code",
   "execution_count": 2,
   "id": "af5cedf7",
   "metadata": {},
   "outputs": [],
   "source": [
    "import seaborn as sns\n",
    "import pandas as pd"
   ]
  },
  {
   "cell_type": "code",
   "execution_count": 3,
   "id": "c641ec10",
   "metadata": {},
   "outputs": [],
   "source": [
    "url=\"https://raw.githubusercontent.com/chiharuishida/Tutorialdata/main/ad_dataset_withheaders.csv\"\n",
    "Ad=pd.read_csv(url)"
   ]
  },
  {
   "cell_type": "code",
   "execution_count": null,
   "id": "d27f2ac2",
   "metadata": {},
   "outputs": [],
   "source": []
  }
 ],
 "metadata": {
  "kernelspec": {
   "display_name": "Python 3",
   "language": "python",
   "name": "python3"
  },
  "language_info": {
   "codemirror_mode": {
    "name": "ipython",
    "version": 3
   },
   "file_extension": ".py",
   "mimetype": "text/x-python",
   "name": "python",
   "nbconvert_exporter": "python",
   "pygments_lexer": "ipython3",
   "version": "3.8.8"
  }
 },
 "nbformat": 4,
 "nbformat_minor": 5
}
